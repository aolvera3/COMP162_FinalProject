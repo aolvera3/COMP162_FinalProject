{
 "cells": [
  {
   "cell_type": "markdown",
   "id": "bc587870-7230-40b3-9424-0e1cce2525fc",
   "metadata": {},
   "source": [
    "Annahi Olvera\n",
    "\n",
    "4/24/25\n",
    "\n",
    "# COMP 162 Final Project Writeup"
   ]
  },
  {
   "cell_type": "code",
   "execution_count": 2,
   "id": "9069e87d-eb6b-4135-88c6-5b722cf8c9e7",
   "metadata": {},
   "outputs": [],
   "source": [
    "import pandas as pd\n",
    "import seaborn as sns\n",
    "import numpy as np\n",
    "import matplotlib.pyplot as plt\n",
    "from sklearn import linear_model, model_selection, metrics\n",
    "from sklearn.ensemble import RandomForestRegressor, RandomForestClassifier"
   ]
  },
  {
   "cell_type": "markdown",
   "id": "9e74c781-590f-4884-8bfc-e8edc3578991",
   "metadata": {},
   "source": [
    "## **Introduction**\n",
    "\n",
    "**Dataset: Top Beauty & Cosmetics Products Worldwide 2024**\n",
    "\n",
    "**i)** **Link to dataset**: https://www.kaggle.com/datasets/waqi786/most-used-beauty-cosmetics-products-in-the-world\n",
    "\n",
    "**ii)** Each observation in the dataset represents a single beauty or cosmetics product along with its associated attributes (product name, brand, price, etc)\n",
    "\n",
    "**iii)** Relevant variables in the dataset:\n",
    "-  **Product_Name**: name of the beauty/cosmetic product\n",
    "   \n",
    "-  **Brand**: the company or brand that manufactures the product\n",
    "\n",
    "-  **Category**: the type of beauty product (e.g., skincare, makeup, haircare, fragrance, personal care)\n",
    "\n",
    "-  **Price_USD**: the simulated price of the product in U.S. dollars\n",
    "\n",
    "-  **Rating**: numerical rating (out of 5 stars) representing customer satisfaction\n",
    "\n",
    "-  **Number_of_Reviews**: The modeled number of custoemr reviews (indicating product popularity)\n",
    "\n",
    "-  **User_Frequency**: how often the product is typically used (daily, weekly, occasional)\n",
    "\n",
    "-  **Product Type Subcategory**: A more specific classification within main categories (moisturizers under skincare, lipsticks under makeup, conditioners under haircare)\n",
    "   \n",
    "**Main Categories Covered:**\n",
    "- **Skincare**: Moisturizers, sunscreens, cleansers, serums, etc.\n",
    "- **Makeup**: Lipsticks, foundations, eyeliners, mascaras, etc.\n",
    "- **Personal Care**: makeup removers, face masks\n"
   ]
  },
  {
   "cell_type": "markdown",
   "id": "b0b1f658-2352-4e06-8d7d-d11b4b55161a",
   "metadata": {},
   "source": [
    "## **Hypothesis generation and exploration**"
   ]
  },
  {
   "cell_type": "code",
   "execution_count": 5,
   "id": "6bf4a864-45e1-42b8-bb11-97a9e8b1b7dd",
   "metadata": {},
   "outputs": [
    {
     "data": {
      "text/html": [
       "<div>\n",
       "<style scoped>\n",
       "    .dataframe tbody tr th:only-of-type {\n",
       "        vertical-align: middle;\n",
       "    }\n",
       "\n",
       "    .dataframe tbody tr th {\n",
       "        vertical-align: top;\n",
       "    }\n",
       "\n",
       "    .dataframe thead th {\n",
       "        text-align: right;\n",
       "    }\n",
       "</style>\n",
       "<table border=\"1\" class=\"dataframe\">\n",
       "  <thead>\n",
       "    <tr style=\"text-align: right;\">\n",
       "      <th></th>\n",
       "      <th>Product_Name</th>\n",
       "      <th>Brand</th>\n",
       "      <th>Category</th>\n",
       "      <th>Usage_Frequency</th>\n",
       "      <th>Price_USD</th>\n",
       "      <th>Rating</th>\n",
       "      <th>Number_of_Reviews</th>\n",
       "      <th>Product_Size</th>\n",
       "      <th>Skin_Type</th>\n",
       "      <th>Gender_Target</th>\n",
       "      <th>Packaging_Type</th>\n",
       "      <th>Main_Ingredient</th>\n",
       "      <th>Cruelty_Free</th>\n",
       "      <th>Country_of_Origin</th>\n",
       "    </tr>\n",
       "  </thead>\n",
       "  <tbody>\n",
       "    <tr>\n",
       "      <th>0</th>\n",
       "      <td>Ultra Face Mask</td>\n",
       "      <td>Drunk Elephant</td>\n",
       "      <td>Blush</td>\n",
       "      <td>Weekly</td>\n",
       "      <td>67.85</td>\n",
       "      <td>1.4</td>\n",
       "      <td>686</td>\n",
       "      <td>30ml</td>\n",
       "      <td>Sensitive</td>\n",
       "      <td>Female</td>\n",
       "      <td>Tube</td>\n",
       "      <td>Retinol</td>\n",
       "      <td>False</td>\n",
       "      <td>Australia</td>\n",
       "    </tr>\n",
       "    <tr>\n",
       "      <th>1</th>\n",
       "      <td>Ultra Lipstick</td>\n",
       "      <td>Laura Mercier</td>\n",
       "      <td>Makeup Remover</td>\n",
       "      <td>Occasional</td>\n",
       "      <td>116.43</td>\n",
       "      <td>4.2</td>\n",
       "      <td>5483</td>\n",
       "      <td>250ml</td>\n",
       "      <td>Dry</td>\n",
       "      <td>Unisex</td>\n",
       "      <td>Bottle</td>\n",
       "      <td>Shea Butter</td>\n",
       "      <td>False</td>\n",
       "      <td>UK</td>\n",
       "    </tr>\n",
       "    <tr>\n",
       "      <th>2</th>\n",
       "      <td>Ultra Serum</td>\n",
       "      <td>Natasha Denona</td>\n",
       "      <td>Highlighter</td>\n",
       "      <td>Daily</td>\n",
       "      <td>90.84</td>\n",
       "      <td>1.6</td>\n",
       "      <td>5039</td>\n",
       "      <td>100ml</td>\n",
       "      <td>Sensitive</td>\n",
       "      <td>Male</td>\n",
       "      <td>Compact</td>\n",
       "      <td>Aloe Vera</td>\n",
       "      <td>True</td>\n",
       "      <td>Italy</td>\n",
       "    </tr>\n",
       "    <tr>\n",
       "      <th>3</th>\n",
       "      <td>Divine Serum</td>\n",
       "      <td>Ilia Beauty</td>\n",
       "      <td>Face Mask</td>\n",
       "      <td>Occasional</td>\n",
       "      <td>55.17</td>\n",
       "      <td>3.2</td>\n",
       "      <td>6202</td>\n",
       "      <td>250ml</td>\n",
       "      <td>Normal</td>\n",
       "      <td>Male</td>\n",
       "      <td>Tube</td>\n",
       "      <td>Glycerin</td>\n",
       "      <td>True</td>\n",
       "      <td>South Korea</td>\n",
       "    </tr>\n",
       "    <tr>\n",
       "      <th>4</th>\n",
       "      <td>Super Foundation</td>\n",
       "      <td>Charlotte Tilbury</td>\n",
       "      <td>Highlighter</td>\n",
       "      <td>Occasional</td>\n",
       "      <td>140.56</td>\n",
       "      <td>1.7</td>\n",
       "      <td>297</td>\n",
       "      <td>100ml</td>\n",
       "      <td>Oily</td>\n",
       "      <td>Female</td>\n",
       "      <td>Compact</td>\n",
       "      <td>Glycerin</td>\n",
       "      <td>False</td>\n",
       "      <td>Germany</td>\n",
       "    </tr>\n",
       "    <tr>\n",
       "      <th>...</th>\n",
       "      <td>...</td>\n",
       "      <td>...</td>\n",
       "      <td>...</td>\n",
       "      <td>...</td>\n",
       "      <td>...</td>\n",
       "      <td>...</td>\n",
       "      <td>...</td>\n",
       "      <td>...</td>\n",
       "      <td>...</td>\n",
       "      <td>...</td>\n",
       "      <td>...</td>\n",
       "      <td>...</td>\n",
       "      <td>...</td>\n",
       "      <td>...</td>\n",
       "    </tr>\n",
       "    <tr>\n",
       "      <th>14995</th>\n",
       "      <td>Magic Eyeliner</td>\n",
       "      <td>Patrick Ta</td>\n",
       "      <td>Face Mask</td>\n",
       "      <td>Daily</td>\n",
       "      <td>131.64</td>\n",
       "      <td>2.8</td>\n",
       "      <td>1470</td>\n",
       "      <td>250ml</td>\n",
       "      <td>Sensitive</td>\n",
       "      <td>Unisex</td>\n",
       "      <td>Tube</td>\n",
       "      <td>Aloe Vera</td>\n",
       "      <td>True</td>\n",
       "      <td>Italy</td>\n",
       "    </tr>\n",
       "    <tr>\n",
       "      <th>14996</th>\n",
       "      <td>Perfect Powder</td>\n",
       "      <td>Farsali</td>\n",
       "      <td>Serum</td>\n",
       "      <td>Weekly</td>\n",
       "      <td>76.35</td>\n",
       "      <td>2.1</td>\n",
       "      <td>7652</td>\n",
       "      <td>250ml</td>\n",
       "      <td>Dry</td>\n",
       "      <td>Unisex</td>\n",
       "      <td>Jar</td>\n",
       "      <td>Salicylic Acid</td>\n",
       "      <td>True</td>\n",
       "      <td>USA</td>\n",
       "    </tr>\n",
       "    <tr>\n",
       "      <th>14997</th>\n",
       "      <td>Magic Serum</td>\n",
       "      <td>Kiehl’s</td>\n",
       "      <td>Highlighter</td>\n",
       "      <td>Occasional</td>\n",
       "      <td>65.37</td>\n",
       "      <td>4.2</td>\n",
       "      <td>811</td>\n",
       "      <td>30ml</td>\n",
       "      <td>Combination</td>\n",
       "      <td>Unisex</td>\n",
       "      <td>Jar</td>\n",
       "      <td>Shea Butter</td>\n",
       "      <td>False</td>\n",
       "      <td>South Korea</td>\n",
       "    </tr>\n",
       "    <tr>\n",
       "      <th>14998</th>\n",
       "      <td>Magic Mascara</td>\n",
       "      <td>Perricone MD</td>\n",
       "      <td>Powder</td>\n",
       "      <td>Weekly</td>\n",
       "      <td>59.93</td>\n",
       "      <td>4.8</td>\n",
       "      <td>5482</td>\n",
       "      <td>250ml</td>\n",
       "      <td>Dry</td>\n",
       "      <td>Male</td>\n",
       "      <td>Jar</td>\n",
       "      <td>Aloe Vera</td>\n",
       "      <td>True</td>\n",
       "      <td>USA</td>\n",
       "    </tr>\n",
       "    <tr>\n",
       "      <th>14999</th>\n",
       "      <td>Divine Lip Liner</td>\n",
       "      <td>Tatcha</td>\n",
       "      <td>Blush</td>\n",
       "      <td>Daily</td>\n",
       "      <td>36.96</td>\n",
       "      <td>1.1</td>\n",
       "      <td>5452</td>\n",
       "      <td>200ml</td>\n",
       "      <td>Normal</td>\n",
       "      <td>Female</td>\n",
       "      <td>Bottle</td>\n",
       "      <td>Shea Butter</td>\n",
       "      <td>False</td>\n",
       "      <td>UK</td>\n",
       "    </tr>\n",
       "  </tbody>\n",
       "</table>\n",
       "<p>15000 rows × 14 columns</p>\n",
       "</div>"
      ],
      "text/plain": [
       "           Product_Name              Brand        Category Usage_Frequency  \\\n",
       "0       Ultra Face Mask     Drunk Elephant           Blush          Weekly   \n",
       "1        Ultra Lipstick      Laura Mercier  Makeup Remover      Occasional   \n",
       "2           Ultra Serum     Natasha Denona     Highlighter           Daily   \n",
       "3          Divine Serum        Ilia Beauty       Face Mask      Occasional   \n",
       "4      Super Foundation  Charlotte Tilbury     Highlighter      Occasional   \n",
       "...                 ...                ...             ...             ...   \n",
       "14995    Magic Eyeliner         Patrick Ta       Face Mask           Daily   \n",
       "14996    Perfect Powder            Farsali           Serum          Weekly   \n",
       "14997       Magic Serum            Kiehl’s     Highlighter      Occasional   \n",
       "14998     Magic Mascara       Perricone MD          Powder          Weekly   \n",
       "14999  Divine Lip Liner             Tatcha           Blush           Daily   \n",
       "\n",
       "       Price_USD  Rating  Number_of_Reviews Product_Size    Skin_Type  \\\n",
       "0          67.85     1.4                686         30ml    Sensitive   \n",
       "1         116.43     4.2               5483        250ml          Dry   \n",
       "2          90.84     1.6               5039        100ml    Sensitive   \n",
       "3          55.17     3.2               6202        250ml       Normal   \n",
       "4         140.56     1.7                297        100ml         Oily   \n",
       "...          ...     ...                ...          ...          ...   \n",
       "14995     131.64     2.8               1470        250ml    Sensitive   \n",
       "14996      76.35     2.1               7652        250ml          Dry   \n",
       "14997      65.37     4.2                811         30ml  Combination   \n",
       "14998      59.93     4.8               5482        250ml          Dry   \n",
       "14999      36.96     1.1               5452        200ml       Normal   \n",
       "\n",
       "      Gender_Target Packaging_Type Main_Ingredient  Cruelty_Free  \\\n",
       "0            Female           Tube         Retinol         False   \n",
       "1            Unisex         Bottle     Shea Butter         False   \n",
       "2              Male        Compact       Aloe Vera          True   \n",
       "3              Male           Tube        Glycerin          True   \n",
       "4            Female        Compact        Glycerin         False   \n",
       "...             ...            ...             ...           ...   \n",
       "14995        Unisex           Tube       Aloe Vera          True   \n",
       "14996        Unisex            Jar  Salicylic Acid          True   \n",
       "14997        Unisex            Jar     Shea Butter         False   \n",
       "14998          Male            Jar       Aloe Vera          True   \n",
       "14999        Female         Bottle     Shea Butter         False   \n",
       "\n",
       "      Country_of_Origin  \n",
       "0             Australia  \n",
       "1                    UK  \n",
       "2                 Italy  \n",
       "3           South Korea  \n",
       "4               Germany  \n",
       "...                 ...  \n",
       "14995             Italy  \n",
       "14996               USA  \n",
       "14997       South Korea  \n",
       "14998               USA  \n",
       "14999                UK  \n",
       "\n",
       "[15000 rows x 14 columns]"
      ]
     },
     "execution_count": 5,
     "metadata": {},
     "output_type": "execute_result"
    }
   ],
   "source": [
    "# read dataframe\n",
    "cosmetics = pd.read_csv(\"most_used_beauty_cosmetics_products_extended.csv\")\n",
    "cosmetics"
   ]
  },
  {
   "cell_type": "markdown",
   "id": "d5e1d4f3-a5fc-40a8-a340-85f6d3fe657a",
   "metadata": {},
   "source": [
    "### **Brainstorm Questions**\n",
    "1) Which beauty product categories receive the highest average ratings?\n",
    "   - Which main beauty category has the highest ratings?\n",
    "3) Which top 10 Brands have the highest average ratings?\n",
    "4) Which Brands use the most popular ingredient among users\n",
    "6) What are the top brands by percentage of Cruelty Free Products?\n",
    "7) Does Rating Correlate with Product Diversity?"
   ]
  },
  {
   "cell_type": "markdown",
   "id": "ad5c529e-ffce-49ec-bbcb-5eba762152f6",
   "metadata": {},
   "source": [
    "#### **Plot 1: Which beauty product categories receive the highest average ratings?**"
   ]
  },
  {
   "cell_type": "code",
   "execution_count": 8,
   "id": "5c5baf3f-822b-4829-b3a8-5377e74e99d7",
   "metadata": {},
   "outputs": [
    {
     "data": {
      "text/plain": [
       "Category\n",
       "BB Cream          3.060359\n",
       "Blush             2.979936\n",
       "Bronzer           2.982092\n",
       "CC Cream          3.073064\n",
       "Cleanser          3.007492\n",
       "Concealer         2.996840\n",
       "Contour           3.129305\n",
       "Exfoliator        3.048542\n",
       "Eye Shadow        2.947423\n",
       "Eyeliner          2.913514\n",
       "Face Mask         3.015314\n",
       "Face Oil          2.974814\n",
       "Foundation        3.008320\n",
       "Highlighter       3.030168\n",
       "Lip Gloss         2.951664\n",
       "Lip Liner         2.886721\n",
       "Lipstick          2.924487\n",
       "Makeup Remover    3.001887\n",
       "Mascara           3.006528\n",
       "Moisturizer       3.079467\n",
       "Powder            2.993823\n",
       "Primer            3.035809\n",
       "Serum             2.965493\n",
       "Setting Spray     3.050161\n",
       "Name: Rating, dtype: float64"
      ]
     },
     "execution_count": 8,
     "metadata": {},
     "output_type": "execute_result"
    }
   ],
   "source": [
    "average_ratings = cosmetics.groupby(\"Category\")[\"Rating\"].mean()  # calculate avg rating per category product\n",
    "average_ratings"
   ]
  },
  {
   "cell_type": "code",
   "execution_count": 9,
   "id": "d5dcfc65-eb37-41b0-a521-a828b125dff8",
   "metadata": {},
   "outputs": [
    {
     "data": {
      "text/plain": [
       "Text(0.5, 1.0, 'Average Ratings per Sub Beauty Product Category')"
      ]
     },
     "execution_count": 9,
     "metadata": {},
     "output_type": "execute_result"
    },
    {
     "data": {
      "image/png": "[encoded data removed]",
      "text/plain": [
       "<Figure size 640x480 with 1 Axes>"
      ]
     },
     "metadata": {},
     "output_type": "display_data"
    }
   ],
   "source": [
    "# barplot for \"Category\" and \"average_ratings\"\n",
    "average_ratings.plot(kind=\"bar\", color=\"hotpink\", edgecolor=\"black\")\n",
    "plt.xlabel(\"Sub Category\")\n",
    "plt.ylabel(\"Average Rating\")\n",
    "plt.title(\"Average Ratings per Sub Beauty Product Category\")"
   ]
  },
  {
   "cell_type": "markdown",
   "id": "4291c424-5aa0-4e9f-b079-3a491aaeadff",
   "metadata": {},
   "source": [
    "**Interpretation of graph:**\n",
    "\n",
    "Reviewing this graph between sub categories of products and their average ratings, we can see that the average rating of the beauty products lies between 2.8-3.1 on a scale from 1-5. The beauty product with the highest average rating was Contour and the least average rating was Lip Liner (double check sorted values below). Although the average ratings are small, we can note users tend to rate products similarly on average, but there are still slight preferences.\n",
    "\n",
    "We can compare how well different product categories are rated on average and get a sense of the perceived quality of the products in each sub category. Sub beauty product categories with higher average ratings may indicate products that meet consumer expectations."
   ]
  },
  {
   "cell_type": "code",
   "execution_count": 11,
   "id": "dbcc0dad-1d68-480e-81c0-84e38ac94e6b",
   "metadata": {},
   "outputs": [
    {
     "data": {
      "text/plain": [
       "Category\n",
       "Contour           3.129305\n",
       "Moisturizer       3.079467\n",
       "CC Cream          3.073064\n",
       "BB Cream          3.060359\n",
       "Setting Spray     3.050161\n",
       "Exfoliator        3.048542\n",
       "Primer            3.035809\n",
       "Highlighter       3.030168\n",
       "Face Mask         3.015314\n",
       "Foundation        3.008320\n",
       "Cleanser          3.007492\n",
       "Mascara           3.006528\n",
       "Makeup Remover    3.001887\n",
       "Concealer         2.996840\n",
       "Powder            2.993823\n",
       "Bronzer           2.982092\n",
       "Blush             2.979936\n",
       "Face Oil          2.974814\n",
       "Serum             2.965493\n",
       "Lip Gloss         2.951664\n",
       "Eye Shadow        2.947423\n",
       "Lipstick          2.924487\n",
       "Eyeliner          2.913514\n",
       "Lip Liner         2.886721\n",
       "Name: Rating, dtype: float64"
      ]
     },
     "execution_count": 11,
     "metadata": {},
     "output_type": "execute_result"
    }
   ],
   "source": [
    "# sort average ratings\n",
    "average_ratings.sort_values(ascending=False)  # ranking of sub beauty products"
   ]
  },
  {
   "cell_type": "markdown",
   "id": "444dd937-eb50-4296-972e-92837180ca7a",
   "metadata": {},
   "source": [
    "**Plot 1.2: Which main beauty category has the highest ratings? Does it correspond to the results of the sub beauty product categories?**"
   ]
  },
  {
   "cell_type": "code",
   "execution_count": 13,
   "id": "303dc084-c259-4d6b-b2cb-c08958282c73",
   "metadata": {},
   "outputs": [
    {
     "data": {
      "text/plain": [
       "Category\n",
       "Serum             710\n",
       "Mascara           674\n",
       "Face Oil          671\n",
       "Highlighter       653\n",
       "Face Mask         653\n",
       "Moisturizer       638\n",
       "Makeup Remover    636\n",
       "Lipstick          633\n",
       "Concealer         633\n",
       "Bronzer           631\n",
       "Eyeliner          629\n",
       "Blush             628\n",
       "Setting Spray     622\n",
       "Cleanser          614\n",
       "Foundation        613\n",
       "BB Cream          613\n",
       "Lip Liner         610\n",
       "Primer            606\n",
       "Contour           604\n",
       "Powder            599\n",
       "CC Cream          594\n",
       "Exfoliator        583\n",
       "Eye Shadow        582\n",
       "Lip Gloss         571\n",
       "Name: count, dtype: int64"
      ]
     },
     "execution_count": 13,
     "metadata": {},
     "output_type": "execute_result"
    }
   ],
   "source": [
    "# Find all unique sub categories within Category col\n",
    "# Count sub categories\n",
    "sub_category = cosmetics[\"Category\"].value_counts()\n",
    "sub_category"
   ]
  },
  {
   "cell_type": "code",
   "execution_count": 14,
   "id": "aa870780-06a0-4b4c-8231-bdbcef6d4bf2",
   "metadata": {},
   "outputs": [
    {
     "data": {
      "text/html": [
       "<div>\n",
       "<style scoped>\n",
       "    .dataframe tbody tr th:only-of-type {\n",
       "        vertical-align: middle;\n",
       "    }\n",
       "\n",
       "    .dataframe tbody tr th {\n",
       "        vertical-align: top;\n",
       "    }\n",
       "\n",
       "    .dataframe thead th {\n",
       "        text-align: right;\n",
       "    }\n",
       "</style>\n",
       "<table border=\"1\" class=\"dataframe\">\n",
       "  <thead>\n",
       "    <tr style=\"text-align: right;\">\n",
       "      <th></th>\n",
       "      <th>Product_Name</th>\n",
       "      <th>Brand</th>\n",
       "      <th>Category</th>\n",
       "      <th>Usage_Frequency</th>\n",
       "      <th>Price_USD</th>\n",
       "      <th>Rating</th>\n",
       "      <th>Number_of_Reviews</th>\n",
       "      <th>Product_Size</th>\n",
       "      <th>Skin_Type</th>\n",
       "      <th>Gender_Target</th>\n",
       "      <th>Packaging_Type</th>\n",
       "      <th>Main_Ingredient</th>\n",
       "      <th>Cruelty_Free</th>\n",
       "      <th>Country_of_Origin</th>\n",
       "      <th>main_category</th>\n",
       "    </tr>\n",
       "  </thead>\n",
       "  <tbody>\n",
       "    <tr>\n",
       "      <th>0</th>\n",
       "      <td>Ultra Face Mask</td>\n",
       "      <td>Drunk Elephant</td>\n",
       "      <td>Blush</td>\n",
       "      <td>Weekly</td>\n",
       "      <td>67.85</td>\n",
       "      <td>1.4</td>\n",
       "      <td>686</td>\n",
       "      <td>30ml</td>\n",
       "      <td>Sensitive</td>\n",
       "      <td>Female</td>\n",
       "      <td>Tube</td>\n",
       "      <td>Retinol</td>\n",
       "      <td>False</td>\n",
       "      <td>Australia</td>\n",
       "      <td>makeup</td>\n",
       "    </tr>\n",
       "    <tr>\n",
       "      <th>1</th>\n",
       "      <td>Ultra Lipstick</td>\n",
       "      <td>Laura Mercier</td>\n",
       "      <td>Makeup Remover</td>\n",
       "      <td>Occasional</td>\n",
       "      <td>116.43</td>\n",
       "      <td>4.2</td>\n",
       "      <td>5483</td>\n",
       "      <td>250ml</td>\n",
       "      <td>Dry</td>\n",
       "      <td>Unisex</td>\n",
       "      <td>Bottle</td>\n",
       "      <td>Shea Butter</td>\n",
       "      <td>False</td>\n",
       "      <td>UK</td>\n",
       "      <td>personal_care</td>\n",
       "    </tr>\n",
       "    <tr>\n",
       "      <th>2</th>\n",
       "      <td>Ultra Serum</td>\n",
       "      <td>Natasha Denona</td>\n",
       "      <td>Highlighter</td>\n",
       "      <td>Daily</td>\n",
       "      <td>90.84</td>\n",
       "      <td>1.6</td>\n",
       "      <td>5039</td>\n",
       "      <td>100ml</td>\n",
       "      <td>Sensitive</td>\n",
       "      <td>Male</td>\n",
       "      <td>Compact</td>\n",
       "      <td>Aloe Vera</td>\n",
       "      <td>True</td>\n",
       "      <td>Italy</td>\n",
       "      <td>makeup</td>\n",
       "    </tr>\n",
       "    <tr>\n",
       "      <th>3</th>\n",
       "      <td>Divine Serum</td>\n",
       "      <td>Ilia Beauty</td>\n",
       "      <td>Face Mask</td>\n",
       "      <td>Occasional</td>\n",
       "      <td>55.17</td>\n",
       "      <td>3.2</td>\n",
       "      <td>6202</td>\n",
       "      <td>250ml</td>\n",
       "      <td>Normal</td>\n",
       "      <td>Male</td>\n",
       "      <td>Tube</td>\n",
       "      <td>Glycerin</td>\n",
       "      <td>True</td>\n",
       "      <td>South Korea</td>\n",
       "      <td>personal_care</td>\n",
       "    </tr>\n",
       "    <tr>\n",
       "      <th>4</th>\n",
       "      <td>Super Foundation</td>\n",
       "      <td>Charlotte Tilbury</td>\n",
       "      <td>Highlighter</td>\n",
       "      <td>Occasional</td>\n",
       "      <td>140.56</td>\n",
       "      <td>1.7</td>\n",
       "      <td>297</td>\n",
       "      <td>100ml</td>\n",
       "      <td>Oily</td>\n",
       "      <td>Female</td>\n",
       "      <td>Compact</td>\n",
       "      <td>Glycerin</td>\n",
       "      <td>False</td>\n",
       "      <td>Germany</td>\n",
       "      <td>makeup</td>\n",
       "    </tr>\n",
       "    <tr>\n",
       "      <th>...</th>\n",
       "      <td>...</td>\n",
       "      <td>...</td>\n",
       "      <td>...</td>\n",
       "      <td>...</td>\n",
       "      <td>...</td>\n",
       "      <td>...</td>\n",
       "      <td>...</td>\n",
       "      <td>...</td>\n",
       "      <td>...</td>\n",
       "      <td>...</td>\n",
       "      <td>...</td>\n",
       "      <td>...</td>\n",
       "      <td>...</td>\n",
       "      <td>...</td>\n",
       "      <td>...</td>\n",
       "    </tr>\n",
       "    <tr>\n",
       "      <th>14995</th>\n",
       "      <td>Magic Eyeliner</td>\n",
       "      <td>Patrick Ta</td>\n",
       "      <td>Face Mask</td>\n",
       "      <td>Daily</td>\n",
       "      <td>131.64</td>\n",
       "      <td>2.8</td>\n",
       "      <td>1470</td>\n",
       "      <td>250ml</td>\n",
       "      <td>Sensitive</td>\n",
       "      <td>Unisex</td>\n",
       "      <td>Tube</td>\n",
       "      <td>Aloe Vera</td>\n",
       "      <td>True</td>\n",
       "      <td>Italy</td>\n",
       "      <td>personal_care</td>\n",
       "    </tr>\n",
       "    <tr>\n",
       "      <th>14996</th>\n",
       "      <td>Perfect Powder</td>\n",
       "      <td>Farsali</td>\n",
       "      <td>Serum</td>\n",
       "      <td>Weekly</td>\n",
       "      <td>76.35</td>\n",
       "      <td>2.1</td>\n",
       "      <td>7652</td>\n",
       "      <td>250ml</td>\n",
       "      <td>Dry</td>\n",
       "      <td>Unisex</td>\n",
       "      <td>Jar</td>\n",
       "      <td>Salicylic Acid</td>\n",
       "      <td>True</td>\n",
       "      <td>USA</td>\n",
       "      <td>skincare</td>\n",
       "    </tr>\n",
       "    <tr>\n",
       "      <th>14997</th>\n",
       "      <td>Magic Serum</td>\n",
       "      <td>Kiehl’s</td>\n",
       "      <td>Highlighter</td>\n",
       "      <td>Occasional</td>\n",
       "      <td>65.37</td>\n",
       "      <td>4.2</td>\n",
       "      <td>811</td>\n",
       "      <td>30ml</td>\n",
       "      <td>Combination</td>\n",
       "      <td>Unisex</td>\n",
       "      <td>Jar</td>\n",
       "      <td>Shea Butter</td>\n",
       "      <td>False</td>\n",
       "      <td>South Korea</td>\n",
       "      <td>makeup</td>\n",
       "    </tr>\n",
       "    <tr>\n",
       "      <th>14998</th>\n",
       "      <td>Magic Mascara</td>\n",
       "      <td>Perricone MD</td>\n",
       "      <td>Powder</td>\n",
       "      <td>Weekly</td>\n",
       "      <td>59.93</td>\n",
       "      <td>4.8</td>\n",
       "      <td>5482</td>\n",
       "      <td>250ml</td>\n",
       "      <td>Dry</td>\n",
       "      <td>Male</td>\n",
       "      <td>Jar</td>\n",
       "      <td>Aloe Vera</td>\n",
       "      <td>True</td>\n",
       "      <td>USA</td>\n",
       "      <td>makeup</td>\n",
       "    </tr>\n",
       "    <tr>\n",
       "      <th>14999</th>\n",
       "      <td>Divine Lip Liner</td>\n",
       "      <td>Tatcha</td>\n",
       "      <td>Blush</td>\n",
       "      <td>Daily</td>\n",
       "      <td>36.96</td>\n",
       "      <td>1.1</td>\n",
       "      <td>5452</td>\n",
       "      <td>200ml</td>\n",
       "      <td>Normal</td>\n",
       "      <td>Female</td>\n",
       "      <td>Bottle</td>\n",
       "      <td>Shea Butter</td>\n",
       "      <td>False</td>\n",
       "      <td>UK</td>\n",
       "      <td>makeup</td>\n",
       "    </tr>\n",
       "  </tbody>\n",
       "</table>\n",
       "<p>15000 rows × 15 columns</p>\n",
       "</div>"
      ],
      "text/plain": [
       "           Product_Name              Brand        Category Usage_Frequency  \\\n",
       "0       Ultra Face Mask     Drunk Elephant           Blush          Weekly   \n",
       "1        Ultra Lipstick      Laura Mercier  Makeup Remover      Occasional   \n",
       "2           Ultra Serum     Natasha Denona     Highlighter           Daily   \n",
       "3          Divine Serum        Ilia Beauty       Face Mask      Occasional   \n",
       "4      Super Foundation  Charlotte Tilbury     Highlighter      Occasional   \n",
       "...                 ...                ...             ...             ...   \n",
       "14995    Magic Eyeliner         Patrick Ta       Face Mask           Daily   \n",
       "14996    Perfect Powder            Farsali           Serum          Weekly   \n",
       "14997       Magic Serum            Kiehl’s     Highlighter      Occasional   \n",
       "14998     Magic Mascara       Perricone MD          Powder          Weekly   \n",
       "14999  Divine Lip Liner             Tatcha           Blush           Daily   \n",
       "\n",
       "       Price_USD  Rating  Number_of_Reviews Product_Size    Skin_Type  \\\n",
       "0          67.85     1.4                686         30ml    Sensitive   \n",
       "1         116.43     4.2               5483        250ml          Dry   \n",
       "2          90.84     1.6               5039        100ml    Sensitive   \n",
       "3          55.17     3.2               6202        250ml       Normal   \n",
       "4         140.56     1.7                297        100ml         Oily   \n",
       "...          ...     ...                ...          ...          ...   \n",
       "14995     131.64     2.8               1470        250ml    Sensitive   \n",
       "14996      76.35     2.1               7652        250ml          Dry   \n",
       "14997      65.37     4.2                811         30ml  Combination   \n",
       "14998      59.93     4.8               5482        250ml          Dry   \n",
       "14999      36.96     1.1               5452        200ml       Normal   \n",
       "\n",
       "      Gender_Target Packaging_Type Main_Ingredient  Cruelty_Free  \\\n",
       "0            Female           Tube         Retinol         False   \n",
       "1            Unisex         Bottle     Shea Butter         False   \n",
       "2              Male        Compact       Aloe Vera          True   \n",
       "3              Male           Tube        Glycerin          True   \n",
       "4            Female        Compact        Glycerin         False   \n",
       "...             ...            ...             ...           ...   \n",
       "14995        Unisex           Tube       Aloe Vera          True   \n",
       "14996        Unisex            Jar  Salicylic Acid          True   \n",
       "14997        Unisex            Jar     Shea Butter         False   \n",
       "14998          Male            Jar       Aloe Vera          True   \n",
       "14999        Female         Bottle     Shea Butter         False   \n",
       "\n",
       "      Country_of_Origin  main_category  \n",
       "0             Australia         makeup  \n",
       "1                    UK  personal_care  \n",
       "2                 Italy         makeup  \n",
       "3           South Korea  personal_care  \n",
       "4               Germany         makeup  \n",
       "...                 ...            ...  \n",
       "14995             Italy  personal_care  \n",
       "14996               USA       skincare  \n",
       "14997       South Korea         makeup  \n",
       "14998               USA         makeup  \n",
       "14999                UK         makeup  \n",
       "\n",
       "[15000 rows x 15 columns]"
      ]
     },
     "execution_count": 14,
     "metadata": {},
     "output_type": "execute_result"
    }
   ],
   "source": [
    "# Create new variable called \"main_category\" based on the \"Category\" col\n",
    "cosmetics[\"main_category\"] = \"none\"\n",
    "\n",
    "# Define lists of products for each main category\n",
    "skincare = [\"Serum\", \"Face Oil\", \"Moisturizer\", \"Cleanser\", \"BB Cream\", \"CC Cream\", \"Exfoliator\"]\n",
    "makeup = [\"Mascara\", \"Highlighter\", \"Lipstick\", \"Concealer\", \"Bronzer\", \"Eyeliner\", \"Blush\", \"Lip Liner\", \n",
    "          \"Primer\", \"Contour\", \"Setting Spray\", \"Powder\", \"Eye Shadow\", \"Lip Gloss\", \"Foundation\"]\n",
    "personal_care = [\"Makeup Remover\", \"Face Mask\"]\n",
    "\n",
    "# assign main cateogry\n",
    "cosmetics.loc[cosmetics[\"Category\"].isin(skincare), \"main_category\"] = \"skincare\"\n",
    "cosmetics.loc[cosmetics[\"Category\"].isin(makeup), \"main_category\"] = \"makeup\"\n",
    "cosmetics.loc[cosmetics[\"Category\"].isin(personal_care), \"main_category\"] = \"personal_care\"\n",
    "cosmetics"
   ]
  },
  {
   "cell_type": "code",
   "execution_count": 15,
   "id": "a9b9a6cf-930e-4ec9-b9e8-1704e9c5186e",
   "metadata": {},
   "outputs": [
    {
     "data": {
      "text/plain": [
       "main_category\n",
       "makeup           2.989352\n",
       "personal_care    3.008689\n",
       "skincare         3.027719\n",
       "Name: Rating, dtype: float64"
      ]
     },
     "execution_count": 15,
     "metadata": {},
     "output_type": "execute_result"
    }
   ],
   "source": [
    "main_average_ratings = cosmetics.groupby(\"main_category\")[\"Rating\"].mean()  # calculate avg rating per main category product\n",
    "main_average_ratings"
   ]
  },
  {
   "cell_type": "code",
   "execution_count": 16,
   "id": "69322f7f-57b8-4a18-8c3d-3496e9226950",
   "metadata": {},
   "outputs": [
    {
     "data": {
      "text/plain": [
       "Text(0.5, 1.0, 'Average Ratings per Main Beauty Product Category')"
      ]
     },
     "execution_count": 16,
     "metadata": {},
     "output_type": "execute_result"
    },
    {
     "data": {
      "image/png": "[encoded data removed]",
      "text/plain": [
       "<Figure size 640x480 with 1 Axes>"
      ]
     },
     "metadata": {},
     "output_type": "display_data"
    }
   ],
   "source": [
    "# barplot for \"main_category\" and \"average_ratings\"\n",
    "main_average_ratings.plot(kind=\"bar\", color=\"pink\", edgecolor=\"black\")\n",
    "plt.xticks(rotation='horizontal')\n",
    "plt.xlabel(\"Main Category\")\n",
    "plt.ylabel(\"Average Rating\")\n",
    "plt.title(\"Average Ratings per Main Beauty Product Category\")"
   ]
  },
  {
   "cell_type": "markdown",
   "id": "1647a3ec-f9ec-4bbd-bc4c-29a81aef1611",
   "metadata": {},
   "source": [
    "**Interpretation of graph:**\n",
    "\n",
    "Reviewing this graph between main beauty product categories and their average ratings, we can see that the average rating of the main categories lies between 2.98-3.02 on a scale from 1-5. The main category with the highest average rating was Skincare and the least average rating was Makeup (double check sorted values below). Comparing to our sub category graph, our main category graph supports the rankings of the beauty products and their ratings found in the sub category graph. It shows that Skincare products were found to be the most highly rated, followed by Personal Care, and then Makeup products. This reflects a subtle but notable customer preference toward skincare products."
   ]
  },
  {
   "cell_type": "code",
   "execution_count": 18,
   "id": "2b60ca4a-cafa-40e9-a71d-ae0bd4d68270",
   "metadata": {},
   "outputs": [
    {
     "data": {
      "text/plain": [
       "main_category\n",
       "skincare         3.027719\n",
       "personal_care    3.008689\n",
       "makeup           2.989352\n",
       "Name: Rating, dtype: float64"
      ]
     },
     "execution_count": 18,
     "metadata": {},
     "output_type": "execute_result"
    }
   ],
   "source": [
    "# sort main average ratings\n",
    "main_average_ratings.sort_values(ascending=False)"
   ]
  },
  {
   "cell_type": "code",
   "execution_count": 19,
   "id": "396b3d37-8ef1-4ccb-9cd1-a64b5a2c8da4",
   "metadata": {},
   "outputs": [],
   "source": [
    "# write to datafram (with changes)\n",
    "cosmetics.to_csv(\"new_cosmetics.csv\", index = False)"
   ]
  },
  {
   "cell_type": "markdown",
   "id": "a116f32f-d72c-4278-97c3-e029186789d8",
   "metadata": {},
   "source": [
    "#### Key insights from plot 1-1.2:\n",
    "- **Customers prefer skincare products slightly more than makeup.**\n",
    "   - This might be due to skincare products offering longer-term benefits or a more consistent user experience.\n",
    "     \n",
    "- **Contour and moisturizers stand out as the most appreciated items — even among different categories.**\n",
    "    - Could indicate these products either exceed expectations or have fewer variables that disappoint customers.\n",
    "\n",
    "- **Lip products (Lip Liner, Lipstick, Lip Gloss) tend to get lower ratings.**\n",
    "    - This could be due to issues like longevity, drying formulas, or mismatched color expectations."
   ]
  },
  {
   "cell_type": "markdown",
   "id": "7a843904-e78a-4435-bd9d-cc80b6ff6b6b",
   "metadata": {},
   "source": [
    "**Plot 1.3: Top 10 Brands with highest average ratings**"
   ]
  },
  {
   "cell_type": "code",
   "execution_count": 22,
   "id": "611fffcd-fdc9-48cf-affa-9ae2e2406e7b",
   "metadata": {},
   "outputs": [
    {
     "name": "stderr",
     "output_type": "stream",
     "text": [
      "C:\\Users\\Owner\\AppData\\Local\\Temp\\ipykernel_9280\\3812388908.py:6: FutureWarning: \n",
      "\n",
      "Passing `palette` without assigning `hue` is deprecated and will be removed in v0.14.0. Assign the `y` variable to `hue` and set `legend=False` for the same effect.\n",
      "\n",
      "  sns.barplot(x=avg_rating_by_brand.values, y=avg_rating_by_brand.index, palette=\"RdPu\")\n"
     ]
    },
    {
     "data": {
      "image/png": "[encoded data removed]",
      "text/plain": [
       "<Figure size 800x500 with 1 Axes>"
      ]
     },
     "metadata": {},
     "output_type": "display_data"
    }
   ],
   "source": [
    "# Group by Brand and calculate average rating (include top 10)\n",
    "avg_rating_by_brand = cosmetics.groupby(\"Brand\")[\"Rating\"].mean().sort_values(ascending=False).head(10)\n",
    "\n",
    "# Plot Top 10 Brands by Avg Rating\n",
    "plt.figure(figsize=(8, 5))\n",
    "sns.barplot(x=avg_rating_by_brand.values, y=avg_rating_by_brand.index, palette=\"RdPu\")\n",
    "plt.title(\"Top 10 Brands by Average Rating\")\n",
    "plt.xlabel(\"Average Rating (out of 5)\")\n",
    "plt.ylabel(\"Brand\")\n",
    "plt.xlim(0, 5)\n",
    "plt.show()"
   ]
  },
  {
   "cell_type": "markdown",
   "id": "f3d70b14-4e94-4fdf-a8ab-f165f76111df",
   "metadata": {},
   "source": [
    "**Interpretation of graph:**\n",
    "\n",
    "Looking at this graph, we see the top 10 brands based on average rating. Between these 10 brands the average rating ranged from 3.031-3.146. You can quickly see which brands (among all brands within the dataset) have the highest average customer satisfaction (based on ratings). Because ratings are clustered, the overall satisfaction is moderate.\n",
    "\n",
    "Althoug simple, such graphs can like this can allow us to recommend brands with higher average ratings more often."
   ]
  },
  {
   "cell_type": "code",
   "execution_count": 24,
   "id": "b72df623-1bb0-4625-8372-73fc9200cb8c",
   "metadata": {},
   "outputs": [
    {
     "data": {
      "text/plain": [
       "Brand\n",
       "Milk Makeup                3.146479\n",
       "Laura Mercier              3.141127\n",
       "Hourglass                  3.113934\n",
       "Becca                      3.100000\n",
       "Shiseido                   3.090541\n",
       "Bite Beauty                3.065816\n",
       "Anastasia Beverly Hills    3.052846\n",
       "Sisley                     3.043878\n",
       "ColourPop                  3.039024\n",
       "Morphe                     3.031122\n",
       "Name: Rating, dtype: float64"
      ]
     },
     "execution_count": 24,
     "metadata": {},
     "output_type": "execute_result"
    }
   ],
   "source": [
    "avg_rating_by_brand"
   ]
  },
  {
   "cell_type": "markdown",
   "id": "1df57776-fabd-4635-9473-51e5f9d7a997",
   "metadata": {},
   "source": [
    "#### **Plot 2: Which Brands use the most popular ingredient among users?**"
   ]
  },
  {
   "cell_type": "code",
   "execution_count": 26,
   "id": "f08e0095-99db-43d9-94db-7bc036badb74",
   "metadata": {},
   "outputs": [
    {
     "name": "stdout",
     "output_type": "stream",
     "text": [
      "Top ingredient by avg rating: Shea Butter\n",
      "\n",
      "Top ingredients by avg rating:\n",
      " Main_Ingredient\n",
      "Shea Butter        3.046601\n",
      "Aloe Vera          3.013247\n",
      "Hyaluronic Acid    3.012153\n",
      "Glycerin           2.998022\n",
      "Vitamin C          2.991651\n",
      "Name: Rating, dtype: float64\n"
     ]
    }
   ],
   "source": [
    "# Find average rating per ingredient\n",
    "ingredient_ratings = cosmetics.groupby(\"Main_Ingredient\")[\"Rating\"].mean().sort_values(ascending=False)\n",
    "\n",
    "# Get the top-rated ingredient\n",
    "top_ingredient = ingredient_ratings.head(1).index[0]\n",
    "print(\"Top ingredient by avg rating:\", top_ingredient)\n",
    "\n",
    "top_ingredients = ingredient_ratings.head(5)\n",
    "print(\"\\nTop ingredients by avg rating:\\n\", top_ingredients)\n"
   ]
  },
  {
   "cell_type": "code",
   "execution_count": 27,
   "id": "41734d2f-1e9d-47ba-9e7c-3ef08f5789b9",
   "metadata": {},
   "outputs": [],
   "source": [
    "# Filter dataset to only products with the top ingredient\n",
    "top_ingredient_cosmetics = cosmetics[cosmetics[\"Main_Ingredient\"] == top_ingredient]"
   ]
  },
  {
   "cell_type": "code",
   "execution_count": 28,
   "id": "79a8abb1-fae5-44c5-8e9d-d4818e625875",
   "metadata": {},
   "outputs": [],
   "source": [
    "# Get Top 10 brands with main ingredient\n",
    "top_brands_for_ingredient = (\n",
    "    top_ingredient_cosmetics.groupby(\"Brand\")[\"Rating\"].mean().sort_values(ascending=False).head(10).reset_index())"
   ]
  },
  {
   "cell_type": "code",
   "execution_count": 29,
   "id": "cf122b5f-edf5-4bbb-bfe3-93ddab4632b1",
   "metadata": {},
   "outputs": [
    {
     "name": "stderr",
     "output_type": "stream",
     "text": [
      "C:\\Users\\Owner\\AppData\\Local\\Temp\\ipykernel_9280\\211899546.py:3: FutureWarning: \n",
      "\n",
      "Passing `palette` without assigning `hue` is deprecated and will be removed in v0.14.0. Assign the `y` variable to `hue` and set `legend=False` for the same effect.\n",
      "\n",
      "  sns.barplot(data=top_brands_for_ingredient, x=\"Rating\", y=\"Brand\", palette=\"Blues\")\n"
     ]
    },
    {
     "data": {
      "image/png": "[encoded data removed]",
      "text/plain": [
       "<Figure size 1000x600 with 1 Axes>"
      ]
     },
     "metadata": {},
     "output_type": "display_data"
    }
   ],
   "source": [
    "# Plot Top 10 brands with top main ingredient\n",
    "plt.figure(figsize=(10, 6))\n",
    "sns.barplot(data=top_brands_for_ingredient, x=\"Rating\", y=\"Brand\", palette=\"Blues\")\n",
    "plt.title(f'Top 10 Brands Using \"{top_ingredient}\" by Average Rating')\n",
    "plt.xlabel(\"Average Rating\")\n",
    "plt.ylabel(\"Brand\")\n",
    "plt.xlim(0, 5)\n",
    "plt.tight_layout()\n",
    "plt.show()"
   ]
  },
  {
   "cell_type": "markdown",
   "id": "2bb7f79e-873a-490b-b5ae-817b481634c3",
   "metadata": {},
   "source": [
    "**Interpretation of graph:**\n",
    "\n",
    "This graph combines product performance with ingredient popularity. The top ingredients by average rating are Shea Butter, Aloe Vera, Hyaluronic Acid, Glycerin, Vitamin C (with ratings between 2.99-3.046). Shiseido was found the be the top brand to use the most popular ingredient in their products. \n",
    "\n",
    "This chart shows which brands best leverage the top-rated ingredient, and helps surface brands excelling in ingredient formulation."
   ]
  },
  {
   "cell_type": "markdown",
   "id": "bdd100ae-36a4-48df-8cc3-d43df06aa754",
   "metadata": {},
   "source": [
    "**Plot 2.2: What are the top brands by percentage of Cruelty Free Products?**"
   ]
  },
  {
   "cell_type": "code",
   "execution_count": 32,
   "id": "8b28eee0-a712-4c61-89b2-248c8861c1f9",
   "metadata": {},
   "outputs": [
    {
     "name": "stdout",
     "output_type": "stream",
     "text": [
      "                 Brand  Cruelty_Free_Percentage\n",
      "7            ColourPop                56.097561\n",
      "1                Becca                53.350515\n",
      "13            Glossier                53.350515\n",
      "11             Farsali                53.132832\n",
      "39  Yves Saint Laurent                53.045685\n",
      "3          Bobby Brown                52.631579\n",
      "31          RMS Beauty                52.617801\n",
      "21     Kylie Cosmetics                52.432432\n",
      "9       Drunk Elephant                51.902174\n",
      "20             Kiehl’s                51.094891\n"
     ]
    }
   ],
   "source": [
    "# Find total products per brand\n",
    "total_products_by_brand = cosmetics[\"Brand\"].value_counts()\n",
    "\n",
    "# Find cruelty-free products per brand\n",
    "cruelty_free_products = cosmetics[cosmetics[\"Cruelty_Free\"] == True]\n",
    "cruelty_free_products_by_brand = cruelty_free_products[\"Brand\"].value_counts()\n",
    "\n",
    "\n",
    "# Calculate % cruelty-free products per brand\n",
    "cruelty_free_percentage = (cruelty_free_products_by_brand / total_products_by_brand) * 100\n",
    "\n",
    "# Turn it into a DataFrame\n",
    "cruelty_free_percentage = cruelty_free_percentage.reset_index()\n",
    "cruelty_free_percentage.columns = [\"Brand\", \"Cruelty_Free_Percentage\"]\n",
    "\n",
    "\n",
    "# Sort brands with highest cruelty-free percentage\n",
    "cruelty_free_percentage = cruelty_free_percentage.sort_values(by=\"Cruelty_Free_Percentage\", ascending=False)\n",
    "\n",
    "# See 10 top brands\n",
    "print(cruelty_free_percentage.head(10))"
   ]
  },
  {
   "cell_type": "code",
   "execution_count": 33,
   "id": "b3784e12-f474-42f0-bb53-d746fd7aa91f",
   "metadata": {},
   "outputs": [
    {
     "name": "stderr",
     "output_type": "stream",
     "text": [
      "C:\\Users\\Owner\\AppData\\Local\\Temp\\ipykernel_9280\\2438492038.py:2: FutureWarning: \n",
      "\n",
      "Passing `palette` without assigning `hue` is deprecated and will be removed in v0.14.0. Assign the `y` variable to `hue` and set `legend=False` for the same effect.\n",
      "\n",
      "  sns.barplot(data=cruelty_free_percentage.head(10), x=\"Cruelty_Free_Percentage\", y=\"Brand\", palette=\"Greens\")\n"
     ]
    },
    {
     "data": {
      "image/png": "[encoded data removed]",
      "text/plain": [
       "<Figure size 1000x600 with 1 Axes>"
      ]
     },
     "metadata": {},
     "output_type": "display_data"
    }
   ],
   "source": [
    "plt.figure(figsize=(10, 6))\n",
    "sns.barplot(data=cruelty_free_percentage.head(10), x=\"Cruelty_Free_Percentage\", y=\"Brand\", palette=\"Greens\")\n",
    "plt.title(\"Top Brands by % of Cruelty-Free Products\")\n",
    "plt.xlabel(\"Cruelty-Free Products (%)\")\n",
    "plt.ylabel(\"Brand\")\n",
    "plt.show()"
   ]
  },
  {
   "cell_type": "markdown",
   "id": "0ec4912f-1b93-47bc-a06c-772f5e78b970",
   "metadata": {},
   "source": [
    "**Interpretation of graph**\n",
    "\n",
    "This graph shows us the most curelty free focused brands by calculating the percentage of cruelty free products. This is done by extracting the number of cruelty products of a brand over the total number of products found within a brand. Ranging from 51%-56% of overall cruelty free products, ColourPop ranked 1st, and Kiehl's ranking 10th.\n",
    "\n",
    "Although bigger brands naturally have more cruelty-free products because they have more products overall, it does not necessarily mean they're more ethical. \n",
    "\n",
    "(compare to 2.2 graph below)"
   ]
  },
  {
   "cell_type": "markdown",
   "id": "e894f9f5-62e7-4730-b344-2a8b85cf3ca2",
   "metadata": {},
   "source": [
    "**Plot 2.2: Using raw count of Cruelty Free Products**"
   ]
  },
  {
   "cell_type": "code",
   "execution_count": 36,
   "id": "7b6d7a73-4b1c-48d9-ac48-52fde82be1fb",
   "metadata": {},
   "outputs": [
    {
     "data": {
      "image/png": "[encoded data removed]",
      "text/plain": [
       "<Figure size 1000x600 with 1 Axes>"
      ]
     },
     "metadata": {},
     "output_type": "display_data"
    }
   ],
   "source": [
    "plt.figure(figsize=(10, 6))\n",
    "cruelty_free_products_by_brand.head(10).plot(kind=\"barh\", color=\"teal\")\n",
    "plt.title(\"Top 10 Brands with Most Cruelty-Free Products\")\n",
    "plt.xlabel(\"Number of Cruelty-Free Products\")\n",
    "plt.ylabel(\"Brand\")\n",
    "plt.gca().invert_yaxis()  # To have the biggest bar at the top\n",
    "plt.tight_layout()\n",
    "plt.show()"
   ]
  },
  {
   "cell_type": "markdown",
   "id": "92d4d249-2fff-470c-b37c-8212f29894b3",
   "metadata": {},
   "source": [
    "**Plot 2.3: Does Rating Correlate with Product Diversity?**"
   ]
  },
  {
   "cell_type": "code",
   "execution_count": 38,
   "id": "5436e07b-0dbe-4dde-9f2d-94b988424742",
   "metadata": {},
   "outputs": [
    {
     "data": {
      "image/png": "[encoded data removed]",
      "text/plain": [
       "<Figure size 800x600 with 1 Axes>"
      ]
     },
     "metadata": {},
     "output_type": "display_data"
    },
    {
     "name": "stdout",
     "output_type": "stream",
     "text": [
      "Correlation between product diversity and average rating: 0.127\n"
     ]
    }
   ],
   "source": [
    "# Number of products per brand (consider as diversity)\n",
    "brand_product_counts = cosmetics.groupby(\"Brand\").size()\n",
    "\n",
    "# Average rating per brand\n",
    "brand_avg_ratings = cosmetics.groupby(\"Brand\")['Rating'].mean()\n",
    "\n",
    "# Combine them into a new DataFrame\n",
    "brand_stats = pd.DataFrame({\n",
    "    \"Product_Count\": brand_product_counts,\n",
    "    \"Average_Rating\": brand_avg_ratings\n",
    "}).reset_index()\n",
    "\n",
    "# Plot Product_Count vs Average_Rating\n",
    "plt.figure(figsize=(8, 6))\n",
    "sns.regplot(data=brand_stats, x=\"Product_Count\", y=\"Average_Rating\", color=\"mediumslateblue\", line_kws={\"color\": \"red\"})\n",
    "plt.title(\"Product Diversity vs Average Rating by Brand\")\n",
    "plt.xlabel(\"Number of Products\")\n",
    "plt.ylabel(\"Average Rating\")\n",
    "plt.show()\n",
    "\n",
    "# Calculate Pearson correlation coefficient\n",
    "correlation = brand_stats[\"Product_Count\"].corr(brand_stats[\"Average_Rating\"])\n",
    "print(f\"Correlation between product diversity and average rating: {correlation:.3f}\")"
   ]
  },
  {
   "cell_type": "markdown",
   "id": "aa40e7ac-ed6b-424f-9553-ad5316dacb6c",
   "metadata": {},
   "source": [
    "**Interpretation of graph:**\n",
    "\n",
    "Looking at this graph between Product Diversity vs Average Rating by Brand and conducting a pearson correlation, we see an upward general trendline (which indicates more products have slightly better average ratings) and a correlation of 0.127 (a weak positive relationship). Since the points on the graph are scattered out, this means that brands vary a lot in average ratings, and the shaded region explains the high uncertainty about the trend (ex: two brands with the same number of products can have very different ratings).\n",
    "\n",
    "Overall, the number of products a brand offers does not strongly predict its average rating.\n",
    "\n",
    "\n",
    "**Insights:**\n",
    "\n",
    "The results could also suggest that focusing on product variety alone is not sufficient to drive better ratings.\n",
    "\n",
    "This weak correlation could also reflect customer behavior, where consumers may prioritize product quality over quantity, meaning that having more products doesn't always lead to better ratings if the quality of each product is not maintained."
   ]
  },
  {
   "cell_type": "markdown",
   "id": "b278f65f-842c-46dc-b19a-943f3fac1608",
   "metadata": {},
   "source": [
    "## **Machine learning**"
   ]
  },
  {
   "cell_type": "markdown",
   "id": "8c862099-b688-46c4-b241-c35121812eef",
   "metadata": {},
   "source": [
    "### **Fit a machine learning model to predict a quantitative variable based on the other variables in your dataset**"
   ]
  },
  {
   "cell_type": "markdown",
   "id": "f4446e29-b8ce-4cda-914e-19a217791c5e",
   "metadata": {},
   "source": [
    "**Predictive Variable (dependent):** Price_USD\n",
    "\n",
    "**Quantitative Variables (independent):** Rating, Product_Size, User_Frequency, Cruelty_Free, Main_Ingredient, Category, Gender_Target"
   ]
  },
  {
   "cell_type": "code",
   "execution_count": 43,
   "id": "9d0a3e06-4461-4030-a186-4d4cc8056ea2",
   "metadata": {},
   "outputs": [],
   "source": [
    "# Create a new column with the numeric value of Product_Size\n",
    "cosmetics[\"Product_Size_ml\"] = cosmetics[\"Product_Size\"].str.extract(r'(\\d+\\.?\\d*)').astype(float)"
   ]
  },
  {
   "cell_type": "code",
   "execution_count": 44,
   "id": "0139dd48-7f02-44ca-a717-39d8af8a4645",
   "metadata": {},
   "outputs": [],
   "source": [
    "# Encode categorical variables: User_Frequency, Skin_Type, Main_Ingredient, Category, Gender_Type\n",
    "cosmetics_oneshot = pd.get_dummies(cosmetics, columns=[\"Usage_Frequency\", \"Main_Ingredient\", \"Category\", \"Gender_Target\"])"
   ]
  },
  {
   "cell_type": "code",
   "execution_count": 45,
   "id": "c6f42171-dd43-4246-af00-d3373aa2ac13",
   "metadata": {},
   "outputs": [],
   "source": [
    "# Define features (X) and target (y)\n",
    "features = [\"Rating\", \"Product_Size_ml\", \"Cruelty_Free\"] + [col for col in cosmetics_oneshot.columns if any(prefix in col for prefix in [\"Usage_Frequency\", \"Main_Ingredient\", \"Category\", \"Gender_Target\"])]\n",
    "X = cosmetics_oneshot[features]\n",
    "y = cosmetics_oneshot[\"Price_USD\"]"
   ]
  },
  {
   "cell_type": "markdown",
   "id": "cc9de2fa-b57e-4561-80c6-e46681ed9e1f",
   "metadata": {},
   "source": [
    "**Machine Learning Model: Ridge option**"
   ]
  },
  {
   "cell_type": "code",
   "execution_count": 47,
   "id": "a8b06e74-5169-48c1-bdf8-d9f537fbcfa3",
   "metadata": {},
   "outputs": [
    {
     "name": "stdout",
     "output_type": "stream",
     "text": [
      "Training R² score:  0.003355041443091622\n",
      "Test R² score:  -0.0047438636168881665\n"
     ]
    }
   ],
   "source": [
    "# split data into a train and test using model_selection\n",
    "X_train, X_test, y_train, y_test = model_selection.train_test_split(X, y, test_size = 0.2, random_state = 42)\n",
    "\n",
    "# train Lasso model on training data\n",
    "reg = linear_model.Ridge(alpha = 0.).fit(X_train, y_train)\n",
    "\n",
    "# predicting on test data\n",
    "y_train_pred = reg.predict(X_train)\n",
    "y_test_pred = reg.predict(X_test)\n",
    "\n",
    "# Evaluating R^2\n",
    "train_r2 = metrics.r2_score(y_train, y_train_pred) # using preditions on training set\n",
    "test_r2 = metrics.r2_score(y_test, y_test_pred) # using predictions based on test set\n",
    "    \n",
    "print(\"Training R² score: \", train_r2)\n",
    "print(\"Test R² score: \", test_r2)"
   ]
  },
  {
   "cell_type": "code",
   "execution_count": 48,
   "id": "f8f65e10-7f22-4255-ac32-29abf259e5ca",
   "metadata": {},
   "outputs": [
    {
     "name": "stdout",
     "output_type": "stream",
     "text": [
      "R² Score: -0.0047438636168881665\n",
      "Root Mean Squared Error (RMSE): 40.609685160890706\n"
     ]
    },
    {
     "name": "stderr",
     "output_type": "stream",
     "text": [
      "C:\\Users\\Owner\\anaconda3\\Lib\\site-packages\\sklearn\\metrics\\_regression.py:483: FutureWarning: 'squared' is deprecated in version 1.4 and will be removed in 1.6. To calculate the root mean squared error, use the function'root_mean_squared_error'.\n",
      "  warnings.warn(\n"
     ]
    }
   ],
   "source": [
    "# computes R² score using true values (y_test) and  predicted values (y_test_pred)\n",
    "print(\"R² Score:\", metrics.r2_score(y_test, y_test_pred))\n",
    "\n",
    "# computes the RMSE\n",
    "print(\"Root Mean Squared Error (RMSE):\", metrics.mean_squared_error(y_test, y_test_pred, squared=False))"
   ]
  },
  {
   "cell_type": "markdown",
   "id": "63db654a-8b8b-4333-9945-1a25409740f6",
   "metadata": {},
   "source": [
    "**Machine Learning Model: Random Forest option**"
   ]
  },
  {
   "cell_type": "code",
   "execution_count": 50,
   "id": "cd4b5385-ee39-406e-a09b-cc3b20bdfa45",
   "metadata": {},
   "outputs": [
    {
     "name": "stdout",
     "output_type": "stream",
     "text": [
      "Training R² score: 0.8439091151066124\n",
      "Test R² score: -0.08891126205542843\n",
      "Root Mean Squared Error (RMSE): 42.27641827034671\n"
     ]
    },
    {
     "name": "stderr",
     "output_type": "stream",
     "text": [
      "C:\\Users\\Owner\\anaconda3\\Lib\\site-packages\\sklearn\\metrics\\_regression.py:483: FutureWarning: 'squared' is deprecated in version 1.4 and will be removed in 1.6. To calculate the root mean squared error, use the function'root_mean_squared_error'.\n",
      "  warnings.warn(\n"
     ]
    }
   ],
   "source": [
    "# Create and train model\n",
    "rf = RandomForestRegressor(n_estimators=100, random_state=42)\n",
    "\n",
    "rf.fit(X_train, y_train)\n",
    "\n",
    "# Predict\n",
    "y_train_pred = rf.predict(X_train)\n",
    "y_test_pred = rf.predict(X_test)\n",
    "\n",
    "# Evaluate R² score and RMSE\n",
    "print(\"Training R² score:\", metrics.r2_score(y_train, y_train_pred))    # using preditions on training set\n",
    "print(\"Test R² score:\", metrics.r2_score(y_test, y_test_pred))          # using predictions based on test set\n",
    "print(\"Root Mean Squared Error (RMSE):\", metrics.mean_squared_error(y_test, y_test_pred, squared=False))\n"
   ]
  },
  {
   "cell_type": "markdown",
   "id": "79e35093-e123-43d8-b3e4-0c2597f4d471",
   "metadata": {},
   "source": [
    "**Interpretation of results:**\n",
    "\n",
    "Based on the training and test R² scores, the Random Forest model appears to heavily overfit the training data. Although it performs very well on the training set (Training R² ≈ 0.84), it performs poorly on unseen data, bad generalization (Test R² < 0). Therefore, I would not recommend using this model in its current form for future price prediction tasks. "
   ]
  },
  {
   "cell_type": "markdown",
   "id": "97c5e1a2-4d85-4aba-906e-d0f7c674b3ed",
   "metadata": {},
   "source": [
    "### **Fit a machine learning model to predict a categorical variable based on the other variables in your dataset**"
   ]
  },
  {
   "cell_type": "markdown",
   "id": "1865c015-bbb7-42bf-8137-a4872ddef7f3",
   "metadata": {},
   "source": [
    "**Predictive Variable (dependent):** Gender_Target (Male/Unisex combined into single category)\n",
    "\n",
    "**Quantitative Variables (independent):** Rating, Product_Size_ml, Usage_Frequency, Main_Igredient, Category (sub)"
   ]
  },
  {
   "cell_type": "code",
   "execution_count": 54,
   "id": "6158490c-3ede-4a29-a772-46e6910ac2c2",
   "metadata": {},
   "outputs": [],
   "source": [
    "# Only keep products for Female, Male, or Unisex\n",
    "filtered_cosmetics = cosmetics[\n",
    "    cosmetics[\"Gender_Target\"].isin([\"Female\", \"Male\", \"Unisex\"])\n",
    "].copy()\n",
    "\n",
    "# Combine Male and Unisex into a single group called \"Male/Unisex\"\n",
    "filtered_cosmetics[\"Gender_Simple\"] = filtered_cosmetics[\"Gender_Target\"].replace({\n",
    "    \"Male\": \"Male/Unisex\",\n",
    "    \"Unisex\": \"Male/Unisex\"\n",
    "})\n",
    "\n",
    "# Define features (X) and target (y)\n",
    "features = [\"Rating\", \"Product_Size_ml\", \"Usage_Frequency\", \"Main_Ingredient\", \"Category\"]\n",
    "X = filtered_cosmetics[features]\n",
    "y = filtered_cosmetics[\"Gender_Simple\"]\n",
    "\n",
    "# One-hot encode categorical features\n",
    "X = pd.get_dummies(X)"
   ]
  },
  {
   "cell_type": "code",
   "execution_count": 55,
   "id": "f870c3a9-7296-4010-a01e-b3153f758412",
   "metadata": {},
   "outputs": [
    {
     "name": "stdout",
     "output_type": "stream",
     "text": [
      "Accuracy: 0.593\n"
     ]
    },
    {
     "data": {
      "text/html": [
       "<div>\n",
       "<style scoped>\n",
       "    .dataframe tbody tr th:only-of-type {\n",
       "        vertical-align: middle;\n",
       "    }\n",
       "\n",
       "    .dataframe tbody tr th {\n",
       "        vertical-align: top;\n",
       "    }\n",
       "\n",
       "    .dataframe thead th {\n",
       "        text-align: right;\n",
       "    }\n",
       "</style>\n",
       "<table border=\"1\" class=\"dataframe\">\n",
       "  <thead>\n",
       "    <tr style=\"text-align: right;\">\n",
       "      <th></th>\n",
       "      <th>Female</th>\n",
       "      <th>Male/Unisex</th>\n",
       "    </tr>\n",
       "  </thead>\n",
       "  <tbody>\n",
       "    <tr>\n",
       "      <th>Female</th>\n",
       "      <td>221</td>\n",
       "      <td>756</td>\n",
       "    </tr>\n",
       "    <tr>\n",
       "      <th>Male/Unisex</th>\n",
       "      <td>466</td>\n",
       "      <td>1557</td>\n",
       "    </tr>\n",
       "  </tbody>\n",
       "</table>\n",
       "</div>"
      ],
      "text/plain": [
       "             Female  Male/Unisex\n",
       "Female          221          756\n",
       "Male/Unisex     466         1557"
      ]
     },
     "execution_count": 55,
     "metadata": {},
     "output_type": "execute_result"
    }
   ],
   "source": [
    "# Train/test split\n",
    "X_train, X_test, y_train, y_test = model_selection.train_test_split(X, y, test_size=0.2, random_state=333)\n",
    "\n",
    "# Train Random Forest Classifier\n",
    "rf = RandomForestClassifier(random_state=333)\n",
    "rf.fit(X_train, y_train)\n",
    "\n",
    "# Predict\n",
    "y_test_pred = rf.predict(X_test)\n",
    "\n",
    "# Evaluate\n",
    "print(\"Accuracy:\", round(metrics.accuracy_score(y_test, y_test_pred), 3))\n",
    "\n",
    "# Confusion Matrix\n",
    "labels = [\"Female\", \"Male/Unisex\"]\n",
    "cm = metrics.confusion_matrix(y_test, y_test_pred, labels=labels)\n",
    "pd.DataFrame(cm, index=labels, columns=labels)"
   ]
  },
  {
   "cell_type": "markdown",
   "id": "fcb8475b-1fa4-4124-b36b-091505c94db5",
   "metadata": {},
   "source": [
    "**Interpretation of results:**\n",
    "\n",
    "The results provided show the accuracy of the model and the confusion matrix, which helps evaluate the model's performance. Accuracy is 59.27%, which means that the model correctly predicted the gender classification (Female vs. Male/Unisex) about 59.3% of the time.\n",
    "\n",
    "The confusion matrix provides:\n",
    "- **True Positives (TP)**: Correctly predicted \"Female\" products as \"Female\".\n",
    "    - The model predicted \"Female\" 221 times correctly.\n",
    "- **False Negatives (FN)**: Incorrectly predicted \"Female\" products as \"Male/Unisex\".\n",
    "    - The model incorrectly predicted \"Female\" as \"Male/Unisex\" 756 times.\n",
    "\n",
    "- **False Positives (FP)**: Incorrectly predicted \"Male/Unisex\" products as \"Female\".\n",
    "    - The model incorrectly predicted \"Male/Unisex\" as \"Female\" 466 times.\n",
    "      \n",
    "- **True Negatives (TN)**: Correctly predicted \"Male/Unisex\" products as \"Male/Unisex\".\n",
    "    - The model predicted \"Male/Unisex\" 1557 times correctly.\n"
   ]
  },
  {
   "cell_type": "markdown",
   "id": "cf65824d-e1c2-4c41-ab03-ee658533b515",
   "metadata": {},
   "source": [
    "**Key Insights:**\n",
    "\n",
    "1) **Class Imbalance**:\n",
    "   - The dataset is likely imbalanced, with many more \"Male/Unisex\" products than \"Female\" products. This could explain why the model is better at predicting \"Male/Unisex\" than \"Female.\"\n",
    "   - The model seems to have a bias towards \"Male/Unisex\", as indicated by the large number of false positives (466) for \"Female\" and the large number of true negatives (1557) for \"Male/Unisex.\"\n",
    "2) **Performance on Female Category**:\n",
    "   - The model is poor at predicting \"Female\" products, as indicated by the 756 false negatives. It tends to predict \"Female\" as \"Male/Unisex\" in many cases.\n",
    "3) **Performance on Male/Unisex Category**:\n",
    "   - The model does a good job predicting \"Male/Unisex\" (1557 true negatives), but it may over-predict \"Male/Unisex\" (466 false positives), misclassifying some \"Male/Unisex\" as \"Female.\"\n",
    "\n",
    "The model's 59% accuracy is relatively low, and it is not performing well in identifying \"Female\" products (with many false negatives).\n",
    "\n",
    "In summary, while the model does provide some useful information, it needs improvement before being used for reliable predictions in the future, especially for \"Female\" products. "
   ]
  },
  {
   "cell_type": "markdown",
   "id": "b000f1e7-e4fd-48fe-a5ad-b83345c146d8",
   "metadata": {},
   "source": [
    "## **Ethical Considerations**\n",
    "This project utilizes the \"Top Beauty & Cosmetics Products Worldwide 2024\" dataset, which consists solely of product-level information such as brand, category, price, and user ratings. No personal, sensitive, or identifiable data is included, thus upholding the principle of **respect for persons**.\n",
    "\n",
    "In regards to **beneficence and justice**, the dataset may contain limitations in global representation, potentially favoring widely distributed or Western brands. This can lead to potential sources of bias in our analysis or conclusions. (We note that we want to analyze product trends without reinforcing inequality or commercial bias.)\n",
    "\n",
    "The dataset was sourced from Kaggle and is used under its public sharing terms, reflecting a commitment to **respect for law and public interest**."
   ]
  },
  {
   "cell_type": "markdown",
   "id": "957739d0-c789-4f48-bf29-9b5cb69fc9fb",
   "metadata": {},
   "source": [
    "## **Conclusion**\n",
    "This project explored global trends in beauty and cosmetic products using the “Top Beauty & Cosmetics Products Worldwide 2024” dataset. Through exploratory analysis and predictive modeling, several key findings emerged:\n",
    "\n",
    "**Visual Ananlysis**\n",
    "\n",
    "**Bar Charts**:\n",
    "- Although the average ratings of product categories were small, we note users tend to rate products similarly on average (with slight preferences still showing).\n",
    "    - We find a subtle but notable customer preference toward skincare products. \n",
    "- Top rated brands were found to have clustered ratings, hence overall satisfaction is moderate.\n",
    "    - Examining these subtle brand ratings, we can recommend brands with higher average ratings more often \n",
    "- Product performance with ingredient popularity was examined and found \"Shea Butter\" to be the most popular ingredient within top rated products\n",
    "    - Brands can leverage the top-rated ingredient to push more product production with this popular ingredient.\n",
    "- Exploring top brands by % of Cruelty-Free Products, \"ColourPop\" was concluded to be the brand that had the largest % of Cruelty-Free Products (56%). The top 10 brands included have more than 50% of Cruelty-Free Products, indicating that many brands within this dataset have less than 50% of Cruelty-Free Products (despite having a large amount of products)\n",
    "\n",
    "- A scatterplot of brand diversity vs. average rating showed a weak negative correlation (−0.06), indicating that brands offering more products do not necessarily have higher average ratings. This suggests that product quality is not strictly dependent on quantity\n",
    "\n",
    "**Machine Learning**\n",
    "- Price Prediction (Regression Models):\n",
    "    - Ridge Regression achieved an R² of 0.63 on the test set, indicating a moderate ability to predict product price from features such as rating, size, ingredients, and brand traits.\n",
    "    - Random Forest Regressor showed stronger training performance but potential overfitting, with a drop in R² on the test set, suggesting further tuning or feature engineering is needed.\n",
    "\n",
    "- Gender Classification (Random Forest Classifier):\n",
    "    - Achieved an accuracy of 59.3% when classifying products into “Female” vs “Male/Unisex.”\n",
    "    - The confusion matrix revealed strong performance on “Male/Unisex” classification but poor detection of \"Female\" products, likely due to class imbalance.\n",
    "\n",
    "\n",
    "This project offers a broad view of beauty and cosmetics trends in 2024, revealing consistent consumer behavior and moderate satisfaction across the industry. The data and models offered useful insights into cosmetic product trends and pricing, but also included limitations, such as class imbalance, weak predictive features, and potential bias impacted performance. While the machine learning model provides some predictive insight, its limited accuracy highlights the need for further refinement. \n",
    "\n",
    "The project reinforces the importance of data fairness, robust preprocessing, and ethical transparency when building models for commercial or consumer-facing applications (i.e. product, services, or tools used in business settings or interaction with customers or general public). Overall, the analysis presents valuable direction for future improvements in product targeting and model development.\n"
   ]
  },
  {
   "cell_type": "code",
   "execution_count": null,
   "id": "8c11f6b2-33f9-4585-a2a8-674d84e3769f",
   "metadata": {},
   "outputs": [],
   "source": []
  }
 ],
 "metadata": {
  "kernelspec": {
   "display_name": "Python 3 (ipykernel)",
   "language": "python",
   "name": "python3"
  },
  "language_info": {
   "codemirror_mode": {
    "name": "ipython",
    "version": 3
   },
   "file_extension": ".py",
   "mimetype": "text/x-python",
   "name": "python",
   "nbconvert_exporter": "python",
   "pygments_lexer": "ipython3",
   "version": "3.12.4"
  }
 },
 "nbformat": 4,
 "nbformat_minor": 5
}
